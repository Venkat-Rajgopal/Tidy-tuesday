{
 "cells": [
  {
   "cell_type": "code",
   "execution_count": 1,
   "metadata": {},
   "outputs": [],
   "source": [
    "import pandas as pd\n",
    "import numpy as np"
   ]
  },
  {
   "cell_type": "code",
   "execution_count": 57,
   "metadata": {
    "scrolled": true
   },
   "outputs": [
    {
     "data": {
      "text/html": [
       "<div>\n",
       "<style scoped>\n",
       "    .dataframe tbody tr th:only-of-type {\n",
       "        vertical-align: middle;\n",
       "    }\n",
       "\n",
       "    .dataframe tbody tr th {\n",
       "        vertical-align: top;\n",
       "    }\n",
       "\n",
       "    .dataframe thead th {\n",
       "        text-align: right;\n",
       "    }\n",
       "</style>\n",
       "<table border=\"1\" class=\"dataframe\">\n",
       "  <thead>\n",
       "    <tr style=\"text-align: right;\">\n",
       "      <th></th>\n",
       "      <th>volcano_number</th>\n",
       "      <th>volcano_name</th>\n",
       "      <th>eruption_number</th>\n",
       "      <th>eruption_category</th>\n",
       "      <th>area_of_activity</th>\n",
       "      <th>vei</th>\n",
       "      <th>start_year</th>\n",
       "      <th>start_month</th>\n",
       "      <th>start_day</th>\n",
       "      <th>evidence_method_dating</th>\n",
       "      <th>end_year</th>\n",
       "      <th>end_month</th>\n",
       "      <th>end_day</th>\n",
       "      <th>latitude</th>\n",
       "      <th>longitude</th>\n",
       "    </tr>\n",
       "  </thead>\n",
       "  <tbody>\n",
       "    <tr>\n",
       "      <th>0</th>\n",
       "      <td>266030</td>\n",
       "      <td>Soputan</td>\n",
       "      <td>22354</td>\n",
       "      <td>Confirmed Eruption</td>\n",
       "      <td>NaN</td>\n",
       "      <td>NaN</td>\n",
       "      <td>2020.0</td>\n",
       "      <td>3.0</td>\n",
       "      <td>23.0</td>\n",
       "      <td>Historical Observations</td>\n",
       "      <td>2020.0</td>\n",
       "      <td>4.0</td>\n",
       "      <td>2.0</td>\n",
       "      <td>1.112</td>\n",
       "      <td>124.737</td>\n",
       "    </tr>\n",
       "    <tr>\n",
       "      <th>1</th>\n",
       "      <td>343100</td>\n",
       "      <td>San Miguel</td>\n",
       "      <td>22355</td>\n",
       "      <td>Confirmed Eruption</td>\n",
       "      <td>NaN</td>\n",
       "      <td>NaN</td>\n",
       "      <td>2020.0</td>\n",
       "      <td>2.0</td>\n",
       "      <td>22.0</td>\n",
       "      <td>Historical Observations</td>\n",
       "      <td>2020.0</td>\n",
       "      <td>2.0</td>\n",
       "      <td>22.0</td>\n",
       "      <td>13.434</td>\n",
       "      <td>-88.269</td>\n",
       "    </tr>\n",
       "    <tr>\n",
       "      <th>2</th>\n",
       "      <td>233020</td>\n",
       "      <td>Fournaise, Piton de la</td>\n",
       "      <td>22343</td>\n",
       "      <td>Confirmed Eruption</td>\n",
       "      <td>NaN</td>\n",
       "      <td>NaN</td>\n",
       "      <td>2020.0</td>\n",
       "      <td>2.0</td>\n",
       "      <td>10.0</td>\n",
       "      <td>Historical Observations</td>\n",
       "      <td>2020.0</td>\n",
       "      <td>4.0</td>\n",
       "      <td>6.0</td>\n",
       "      <td>-21.244</td>\n",
       "      <td>55.708</td>\n",
       "    </tr>\n",
       "    <tr>\n",
       "      <th>3</th>\n",
       "      <td>345020</td>\n",
       "      <td>Rincon de la Vieja</td>\n",
       "      <td>22346</td>\n",
       "      <td>Confirmed Eruption</td>\n",
       "      <td>NaN</td>\n",
       "      <td>NaN</td>\n",
       "      <td>2020.0</td>\n",
       "      <td>1.0</td>\n",
       "      <td>31.0</td>\n",
       "      <td>Historical Observations</td>\n",
       "      <td>2020.0</td>\n",
       "      <td>4.0</td>\n",
       "      <td>17.0</td>\n",
       "      <td>10.830</td>\n",
       "      <td>-85.324</td>\n",
       "    </tr>\n",
       "    <tr>\n",
       "      <th>4</th>\n",
       "      <td>353010</td>\n",
       "      <td>Fernandina</td>\n",
       "      <td>22347</td>\n",
       "      <td>Confirmed Eruption</td>\n",
       "      <td>NaN</td>\n",
       "      <td>NaN</td>\n",
       "      <td>2020.0</td>\n",
       "      <td>1.0</td>\n",
       "      <td>12.0</td>\n",
       "      <td>Historical Observations</td>\n",
       "      <td>2020.0</td>\n",
       "      <td>1.0</td>\n",
       "      <td>12.0</td>\n",
       "      <td>-0.370</td>\n",
       "      <td>-91.550</td>\n",
       "    </tr>\n",
       "  </tbody>\n",
       "</table>\n",
       "</div>"
      ],
      "text/plain": [
       "   volcano_number            volcano_name  eruption_number  \\\n",
       "0          266030                 Soputan            22354   \n",
       "1          343100              San Miguel            22355   \n",
       "2          233020  Fournaise, Piton de la            22343   \n",
       "3          345020      Rincon de la Vieja            22346   \n",
       "4          353010              Fernandina            22347   \n",
       "\n",
       "    eruption_category area_of_activity  vei  start_year  start_month  \\\n",
       "0  Confirmed Eruption              NaN  NaN      2020.0          3.0   \n",
       "1  Confirmed Eruption              NaN  NaN      2020.0          2.0   \n",
       "2  Confirmed Eruption              NaN  NaN      2020.0          2.0   \n",
       "3  Confirmed Eruption              NaN  NaN      2020.0          1.0   \n",
       "4  Confirmed Eruption              NaN  NaN      2020.0          1.0   \n",
       "\n",
       "   start_day   evidence_method_dating  end_year  end_month  end_day  latitude  \\\n",
       "0       23.0  Historical Observations    2020.0        4.0      2.0     1.112   \n",
       "1       22.0  Historical Observations    2020.0        2.0     22.0    13.434   \n",
       "2       10.0  Historical Observations    2020.0        4.0      6.0   -21.244   \n",
       "3       31.0  Historical Observations    2020.0        4.0     17.0    10.830   \n",
       "4       12.0  Historical Observations    2020.0        1.0     12.0    -0.370   \n",
       "\n",
       "   longitude  \n",
       "0    124.737  \n",
       "1    -88.269  \n",
       "2     55.708  \n",
       "3    -85.324  \n",
       "4    -91.550  "
      ]
     },
     "execution_count": 57,
     "metadata": {},
     "output_type": "execute_result"
    }
   ],
   "source": [
    "volcano = pd.read_csv('https://raw.githubusercontent.com/rfordatascience/tidytuesday/master/data/2020/2020-05-12/volcano.csv')\n",
    "eruptions = pd.read_csv('https://raw.githubusercontent.com/rfordatascience/tidytuesday/master/data/2020/2020-05-12/eruptions.csv')\n",
    "eruptions.head()"
   ]
  },
  {
   "cell_type": "code",
   "execution_count": 13,
   "metadata": {
    "scrolled": false
   },
   "outputs": [
    {
     "data": {
      "text/plain": [
       "Stratovolcano          353\n",
       "Stratovolcano(es)      107\n",
       "Shield                  85\n",
       "Volcanic field          71\n",
       "Pyroclastic cone(s)     70\n",
       "Caldera                 65\n",
       "Complex                 46\n",
       "Shield(s)               33\n",
       "Submarine               27\n",
       "Lava dome(s)            26\n",
       "Fissure vent(s)         12\n",
       "Caldera(s)               9\n",
       "Compound                 9\n",
       "Maar(s)                  8\n",
       "Tuff cone(s)             7\n",
       "Pyroclastic shield       7\n",
       "Crater rows              5\n",
       "Subglacial               5\n",
       "Pyroclastic cone         4\n",
       "Lava dome                3\n",
       "Stratovolcano?           1\n",
       "Tuff cone                1\n",
       "Lava cone(s)             1\n",
       "Lava cone                1\n",
       "Complex(es)              1\n",
       "Lava cone(es)            1\n",
       "Name: primary_volcano_type, dtype: int64"
      ]
     },
     "execution_count": 13,
     "metadata": {},
     "output_type": "execute_result"
    }
   ],
   "source": [
    "# volcano.primary_volcano_type.unique().tolist()\n",
    "volcano.primary_volcano_type.value_counts()"
   ]
  },
  {
   "cell_type": "code",
   "execution_count": 12,
   "metadata": {
    "scrolled": false
   },
   "outputs": [
    {
     "data": {
      "text/plain": [
       "Eruption Observed     428\n",
       "Eruption Dated        226\n",
       "Evidence Credible     193\n",
       "Evidence Uncertain     84\n",
       "Unrest / Holocene      27\n",
       "Name: evidence_category, dtype: int64"
      ]
     },
     "execution_count": 12,
     "metadata": {},
     "output_type": "execute_result"
    }
   ],
   "source": [
    "volcano.evidence_category.value_counts()"
   ]
  },
  {
   "cell_type": "code",
   "execution_count": 69,
   "metadata": {},
   "outputs": [
    {
     "data": {
      "text/plain": [
       "Unknown    301\n",
       "2020        46\n",
       "2019        14\n",
       "2018        12\n",
       "2008        10\n",
       "          ... \n",
       "-5610        1\n",
       "-5180        1\n",
       "1508         1\n",
       "640          1\n",
       "1640         1\n",
       "Name: last_eruption_year, Length: 342, dtype: int64"
      ]
     },
     "execution_count": 69,
     "metadata": {},
     "output_type": "execute_result"
    }
   ],
   "source": [
    "volcano.last_eruption_year.value_counts()"
   ]
  },
  {
   "cell_type": "code",
   "execution_count": 76,
   "metadata": {},
   "outputs": [],
   "source": [
    "volcano['last_eruption_year'] = volcano['last_eruption_year'].replace('Unknown', None, regex=True)"
   ]
  },
  {
   "cell_type": "code",
   "execution_count": 63,
   "metadata": {
    "scrolled": false
   },
   "outputs": [
    {
     "data": {
      "application/vnd.plotly.v1+json": {
       "config": {
        "plotlyServerURL": "https://plot.ly"
       },
       "data": [
        {
         "alignmentgroup": "True",
         "bingroup": "x",
         "hovertemplate": "evidence_category=Eruption Dated<br>last_eruption_year=%{x}<br>count=%{y}<extra></extra>",
         "legendgroup": "Eruption Dated",
         "marker": {
          "color": "#636efa"
         },
         "name": "Eruption Dated",
         "offsetgroup": "Eruption Dated",
         "orientation": "v",
         "showlegend": true,
         "type": "histogram",
         "x": [
          "-6850",
          "-2080",
          "950",
          "-1250",
          "2014",
          "-2450",
          "1600",
          "-50",
          "-350",
          "1490",
          "-230",
          "-590",
          "-50",
          "0",
          "1508",
          "-320",
          "1350",
          "-5800",
          "-550",
          "-3550",
          "-6050",
          "850",
          "480",
          "-8350",
          "1580",
          "-8400",
          "1290",
          "-2300",
          "-4450",
          "-5310",
          "-50",
          "1720",
          "1820",
          "-5050",
          "-3600",
          "-3250",
          "-190",
          "-3740",
          "-4040",
          "-4550",
          "400",
          "1855",
          "1150",
          "-2850",
          "-130",
          "650",
          "-3920",
          "1895",
          "-5350",
          "1813",
          "-2790",
          "1350",
          "-5610",
          "350",
          "1150",
          "-2220",
          "950",
          "50",
          "-7550",
          "1910",
          "-3490",
          "-6880",
          "-950",
          "-2120",
          "-1200",
          "-400",
          "-550",
          "-8060",
          "-1900",
          "1700",
          "-5550",
          "-1950",
          "40",
          "-3500",
          "-5350",
          "1550",
          "2015",
          "1750",
          "950",
          "550",
          "-1200",
          "1360",
          "-3250",
          "150",
          "-7050",
          "-700",
          "1750",
          "-210",
          "-4470",
          "-10450",
          "-5550",
          "300",
          "-6250",
          "-6890",
          "-8050",
          "-3500",
          "1800",
          "-6050",
          "950",
          "-520",
          "-5180",
          "-1250",
          "400",
          "-8050",
          "-750",
          "-300",
          "1550",
          "1350",
          "1550",
          "1190",
          "-6440",
          "1320",
          "1820",
          "950",
          "560",
          "120",
          "160",
          "1230",
          "960",
          "-1050",
          "350",
          "-4360",
          "-4500",
          "1260",
          "-2050",
          "180",
          "-2000",
          "1953",
          "1080",
          "1290",
          "-50",
          "-2460",
          "-5060",
          "-410",
          "1060",
          "-2050",
          "-2950",
          "1892",
          "-4100",
          "140",
          "-1600",
          "1790",
          "1380",
          "-160",
          "-750",
          "1660",
          "-6550",
          "-9540",
          "-1200",
          "1060",
          "690",
          "-2900",
          "1450",
          "-4900",
          "-50",
          "-3400",
          "-3550",
          "750",
          "1770",
          "-3050",
          "-7550",
          "-5550",
          "290",
          "-5050",
          "1270",
          "-1050",
          "-442",
          "-778",
          "-3350",
          "290",
          "255",
          "250",
          "-4450",
          "1450",
          "-9450",
          "1180",
          "1250",
          "210",
          "1075",
          "1350",
          "650",
          "-950",
          "-850",
          "-1550",
          "-5050",
          "1910",
          "1240",
          "-1280",
          "-320",
          "1739",
          "-4570",
          "-5550",
          "-2980",
          "648",
          "260",
          "1550",
          "-960",
          "-5750",
          "-900",
          "440",
          "-550",
          "-1350",
          "-4550",
          "920",
          "440",
          "-150",
          "-220",
          "1100",
          "-2990",
          "640",
          "200",
          "-2000",
          "-8050",
          "-550",
          "-300",
          "1550",
          "-5750",
          "-8300",
          "-4050",
          "-1350",
          "1200",
          "-6200",
          "-1050",
          "-800",
          "-3050",
          "-1170"
         ],
         "xaxis": "x",
         "yaxis": "y"
        },
        {
         "alignmentgroup": "True",
         "bingroup": "x",
         "hovertemplate": "evidence_category=Evidence Credible<br>last_eruption_year=%{x}<br>count=%{y}<extra></extra>",
         "legendgroup": "Evidence Credible",
         "marker": {
          "color": "#EF553B"
         },
         "name": "Evidence Credible",
         "offsetgroup": "Evidence Credible",
         "orientation": "v",
         "showlegend": true,
         "type": "histogram",
         "x": [
          "Unknown",
          "Unknown",
          "Unknown",
          "Unknown",
          "Unknown",
          "Unknown",
          "Unknown",
          "Unknown",
          "Unknown",
          "Unknown",
          "Unknown",
          "Unknown",
          "Unknown",
          "Unknown",
          "Unknown",
          "Unknown",
          "Unknown",
          "Unknown",
          "Unknown",
          "Unknown",
          "Unknown",
          "Unknown",
          "Unknown",
          "Unknown",
          "Unknown",
          "Unknown",
          "Unknown",
          "Unknown",
          "Unknown",
          "Unknown",
          "Unknown",
          "Unknown",
          "Unknown",
          "Unknown",
          "Unknown",
          "Unknown",
          "Unknown",
          "Unknown",
          "Unknown",
          "Unknown",
          "Unknown",
          "Unknown",
          "Unknown",
          "Unknown",
          "Unknown",
          "Unknown",
          "Unknown",
          "Unknown",
          "Unknown",
          "Unknown",
          "Unknown",
          "Unknown",
          "Unknown",
          "Unknown",
          "Unknown",
          "Unknown",
          "Unknown",
          "Unknown",
          "Unknown",
          "Unknown",
          "Unknown",
          "Unknown",
          "Unknown",
          "Unknown",
          "Unknown",
          "Unknown",
          "Unknown",
          "Unknown",
          "Unknown",
          "Unknown",
          "Unknown",
          "Unknown",
          "Unknown",
          "Unknown",
          "Unknown",
          "Unknown",
          "Unknown",
          "Unknown",
          "Unknown",
          "Unknown",
          "Unknown",
          "Unknown",
          "Unknown",
          "Unknown",
          "Unknown",
          "Unknown",
          "Unknown",
          "Unknown",
          "Unknown",
          "Unknown",
          "Unknown",
          "Unknown",
          "Unknown",
          "Unknown",
          "Unknown",
          "Unknown",
          "Unknown",
          "Unknown",
          "Unknown",
          "Unknown",
          "Unknown",
          "Unknown",
          "1050",
          "Unknown",
          "Unknown",
          "Unknown",
          "Unknown",
          "Unknown",
          "Unknown",
          "Unknown",
          "Unknown",
          "Unknown",
          "Unknown",
          "Unknown",
          "Unknown",
          "Unknown",
          "Unknown",
          "Unknown",
          "Unknown",
          "Unknown",
          "Unknown",
          "Unknown",
          "Unknown",
          "Unknown",
          "Unknown",
          "Unknown",
          "Unknown",
          "Unknown",
          "Unknown",
          "Unknown",
          "Unknown",
          "Unknown",
          "Unknown",
          "Unknown",
          "Unknown",
          "Unknown",
          "Unknown",
          "Unknown",
          "Unknown",
          "Unknown",
          "Unknown",
          "Unknown",
          "Unknown",
          "Unknown",
          "Unknown",
          "Unknown",
          "Unknown",
          "Unknown",
          "Unknown",
          "Unknown",
          "Unknown",
          "Unknown",
          "Unknown",
          "Unknown",
          "Unknown",
          "Unknown",
          "Unknown",
          "Unknown",
          "Unknown",
          "Unknown",
          "Unknown",
          "Unknown",
          "Unknown",
          "Unknown",
          "Unknown",
          "Unknown",
          "Unknown",
          "-4000",
          "Unknown",
          "Unknown",
          "Unknown",
          "Unknown",
          "Unknown",
          "Unknown",
          "Unknown",
          "Unknown",
          "Unknown",
          "Unknown",
          "Unknown",
          "Unknown",
          "Unknown",
          "Unknown",
          "Unknown",
          "Unknown",
          "Unknown",
          "Unknown",
          "Unknown",
          "Unknown",
          "Unknown",
          "Unknown",
          "Unknown",
          "Unknown",
          "Unknown"
         ],
         "xaxis": "x",
         "yaxis": "y"
        },
        {
         "alignmentgroup": "True",
         "bingroup": "x",
         "hovertemplate": "evidence_category=Eruption Observed<br>last_eruption_year=%{x}<br>count=%{y}<extra></extra>",
         "legendgroup": "Eruption Observed",
         "marker": {
          "color": "#00cc96"
         },
         "name": "Eruption Observed",
         "offsetgroup": "Eruption Observed",
         "orientation": "v",
         "showlegend": true,
         "type": "histogram",
         "x": [
          "1972",
          "1996",
          "1917",
          "1564",
          "2019",
          "2020",
          "1996",
          "2008",
          "1971",
          "1997",
          "1992",
          "2018",
          "1915",
          "1993",
          "1818",
          "2008",
          "1796",
          "2018",
          "2005",
          "2018",
          "1997",
          "2008",
          "1931",
          "1802",
          "1869",
          "1785",
          "1840",
          "1978",
          "2010",
          "500",
          "1952",
          "2019",
          "1961",
          "2020",
          "1906",
          "885",
          "1812",
          "2006",
          "2001",
          "2015",
          "2008",
          "1967",
          "1977",
          "1924",
          "2020",
          "1880",
          "1988",
          "1888",
          "1953",
          "2015",
          "1921",
          "2000",
          "2020",
          "1939",
          "2017",
          "1341",
          "2016",
          "1899",
          "2017",
          "1860",
          "2015",
          "1980",
          "2000",
          "1953",
          "1857",
          "1538",
          "1867",
          "1911",
          "1979",
          "1786",
          "1875",
          "1951",
          "1773",
          "1981",
          "1903",
          "1982",
          "1998",
          "2016",
          "2020",
          "1860",
          "2016",
          "1974",
          "1986",
          "1993",
          "2019",
          "2011",
          "2019",
          "1859",
          "2016",
          "1926",
          "2005",
          "1631",
          "1970",
          "2017",
          "1933",
          "1937",
          "2018",
          "1861",
          "2020",
          "2020",
          "2004",
          "2020",
          "2020",
          "1874",
          "2020",
          "1932",
          "2013",
          "2010",
          "1967",
          "1958",
          "1820",
          "1830",
          "2015",
          "2020",
          "2020",
          "1708",
          "1630",
          "1996",
          "2014",
          "1984",
          "2018",
          "2007",
          "2011",
          "1957",
          "2010",
          "2011",
          "2002",
          "1847",
          "1606",
          "1933",
          "1659",
          "1007",
          "1850",
          "2020",
          "2000",
          "2012",
          "1544",
          "2000",
          "1866",
          "1801",
          "1600",
          "2011",
          "1920",
          "2020",
          "1999",
          "1876",
          "1993",
          "2013",
          "1880",
          "2001",
          "2012",
          "1968",
          "1994",
          "1302",
          "1863",
          "1919",
          "1969",
          "1990",
          "1989",
          "2002",
          "1985",
          "2000",
          "1984",
          "2012",
          "2017",
          "2014",
          "2007",
          "2019",
          "1918",
          "1912",
          "1968",
          "2014",
          "2020",
          "1960",
          "1933",
          "650",
          "2017",
          "2020",
          "2018",
          "2018",
          "1945",
          "2020",
          "1973",
          "1820",
          "2007",
          "1690",
          "838",
          "1984",
          "2020",
          "2008",
          "1340",
          "1907",
          "2020",
          "1996",
          "1951",
          "1950",
          "2018",
          "1974",
          "1968",
          "1800",
          "1971",
          "1898",
          "2018",
          "1824",
          "2017",
          "1917",
          "1885",
          "2020",
          "2003",
          "2003",
          "2009",
          "2015",
          "1912",
          "1993",
          "1990",
          "1000",
          "1977",
          "1912",
          "1995",
          "1952",
          "2020",
          "2009",
          "1928",
          "2018",
          "2004",
          "1898",
          "2020",
          "1956",
          "1984",
          "2020",
          "1797",
          "1910",
          "-258",
          "1835",
          "1952",
          "1839",
          "1914",
          "1975",
          "1946",
          "2010",
          "1937",
          "2016",
          "2007",
          "1999",
          "2000",
          "1970",
          "1914",
          "837",
          "1963",
          "2018",
          "1999",
          "1650",
          "1998",
          "886",
          "1952",
          "1888",
          "1985",
          "2006",
          "2010",
          "2020",
          "2020",
          "1866",
          "1981",
          "2008",
          "Unknown",
          "2014",
          "1776",
          "1728",
          "1846",
          "1790",
          "1787",
          "1869",
          "2020",
          "2012",
          "2013",
          "1891",
          "2002",
          "2016",
          "1932",
          "1905",
          "1939",
          "2000",
          "1720",
          "1652",
          "1954",
          "1993",
          "2019",
          "2019",
          "2020",
          "1962",
          "1850",
          "1977",
          "2012",
          "1766",
          "2014",
          "1256",
          "1991",
          "2006",
          "1957",
          "2015",
          "1880",
          "1908",
          "2020",
          "1831",
          "2020",
          "2016",
          "2007",
          "2020",
          "2008",
          "1640",
          "2020",
          "1938",
          "2019",
          "1960",
          "1796",
          "1960",
          "1917",
          "2020",
          "2020",
          "2005",
          "2020",
          "1906",
          "1950",
          "2019",
          "1951",
          "2020",
          "1911",
          "1847",
          "1253",
          "1993",
          "2020",
          "2020",
          "1921",
          "1880",
          "1839",
          "1250",
          "2020",
          "1979",
          "1936",
          "2020",
          "2019",
          "1881",
          "2015",
          "2014",
          "1994",
          "2020",
          "1986",
          "1977",
          "2013",
          "1979",
          "1975",
          "1992",
          "1957",
          "2008",
          "2020",
          "1921",
          "1730",
          "1916",
          "1971",
          "1966",
          "2020",
          "2020",
          "1986",
          "2008",
          "2008",
          "2007",
          "1967",
          "1914",
          "1924",
          "1880",
          "2019",
          "1952",
          "1800",
          "2018",
          "1937",
          "1855",
          "1909",
          "2019",
          "2000",
          "2020",
          "1917",
          "1868",
          "2014",
          "2004",
          "2013",
          "1943",
          "1848",
          "2012",
          "1477",
          "915",
          "2001",
          "1881",
          "1974",
          "1962",
          "1822",
          "1900",
          "1987",
          "2019",
          "1802",
          "1814",
          "1977",
          "1996",
          "1890",
          "2003",
          "1973",
          "1944",
          "1935",
          "2020",
          "1957",
          "1890",
          "-104",
          "1997",
          "2009",
          "1992",
          "2019",
          "2012",
          "1912",
          "1776",
          "1995",
          "1810",
          "2020",
          "1835",
          "-1320",
          "867",
          "1937",
          "1940",
          "2016",
          "2013"
         ],
         "xaxis": "x",
         "yaxis": "y"
        },
        {
         "alignmentgroup": "True",
         "bingroup": "x",
         "hovertemplate": "evidence_category=Evidence Uncertain<br>last_eruption_year=%{x}<br>count=%{y}<extra></extra>",
         "legendgroup": "Evidence Uncertain",
         "marker": {
          "color": "#ab63fa"
         },
         "name": "Evidence Uncertain",
         "offsetgroup": "Evidence Uncertain",
         "orientation": "v",
         "showlegend": true,
         "type": "histogram",
         "x": [
          "Unknown",
          "Unknown",
          "Unknown",
          "Unknown",
          "Unknown",
          "Unknown",
          "Unknown",
          "Unknown",
          "Unknown",
          "Unknown",
          "Unknown",
          "Unknown",
          "Unknown",
          "Unknown",
          "Unknown",
          "1936",
          "Unknown",
          "Unknown",
          "Unknown",
          "Unknown",
          "Unknown",
          "Unknown",
          "Unknown",
          "Unknown",
          "Unknown",
          "Unknown",
          "Unknown",
          "Unknown",
          "Unknown",
          "Unknown",
          "Unknown",
          "Unknown",
          "Unknown",
          "Unknown",
          "Unknown",
          "Unknown",
          "Unknown",
          "Unknown",
          "Unknown",
          "Unknown",
          "Unknown",
          "Unknown",
          "Unknown",
          "Unknown",
          "Unknown",
          "Unknown",
          "Unknown",
          "Unknown",
          "Unknown",
          "Unknown",
          "Unknown",
          "Unknown",
          "Unknown",
          "Unknown",
          "Unknown",
          "Unknown",
          "Unknown",
          "Unknown",
          "Unknown",
          "Unknown",
          "Unknown",
          "Unknown",
          "Unknown",
          "Unknown",
          "Unknown",
          "Unknown",
          "Unknown",
          "Unknown",
          "1895",
          "Unknown",
          "Unknown",
          "Unknown",
          "Unknown",
          "Unknown",
          "Unknown",
          "Unknown",
          "Unknown",
          "Unknown",
          "Unknown",
          "Unknown",
          "Unknown",
          "Unknown",
          "Unknown",
          "Unknown"
         ],
         "xaxis": "x",
         "yaxis": "y"
        },
        {
         "alignmentgroup": "True",
         "bingroup": "x",
         "hovertemplate": "evidence_category=Unrest / Holocene<br>last_eruption_year=%{x}<br>count=%{y}<extra></extra>",
         "legendgroup": "Unrest / Holocene",
         "marker": {
          "color": "#FFA15A"
         },
         "name": "Unrest / Holocene",
         "offsetgroup": "Unrest / Holocene",
         "orientation": "v",
         "showlegend": true,
         "type": "histogram",
         "x": [
          "Unknown",
          "Unknown",
          "Unknown",
          "Unknown",
          "Unknown",
          "Unknown",
          "Unknown",
          "Unknown",
          "Unknown",
          "Unknown",
          "Unknown",
          "Unknown",
          "Unknown",
          "Unknown",
          "Unknown",
          "Unknown",
          "Unknown",
          "Unknown",
          "Unknown",
          "Unknown",
          "Unknown",
          "Unknown",
          "Unknown",
          "Unknown",
          "Unknown",
          "Unknown",
          "Unknown"
         ],
         "xaxis": "x",
         "yaxis": "y"
        }
       ],
       "layout": {
        "barmode": "relative",
        "legend": {
         "title": {
          "text": "evidence_category"
         },
         "tracegroupgap": 0
        },
        "margin": {
         "t": 60
        },
        "template": {
         "data": {
          "bar": [
           {
            "error_x": {
             "color": "#2a3f5f"
            },
            "error_y": {
             "color": "#2a3f5f"
            },
            "marker": {
             "line": {
              "color": "#E5ECF6",
              "width": 0.5
             }
            },
            "type": "bar"
           }
          ],
          "barpolar": [
           {
            "marker": {
             "line": {
              "color": "#E5ECF6",
              "width": 0.5
             }
            },
            "type": "barpolar"
           }
          ],
          "carpet": [
           {
            "aaxis": {
             "endlinecolor": "#2a3f5f",
             "gridcolor": "white",
             "linecolor": "white",
             "minorgridcolor": "white",
             "startlinecolor": "#2a3f5f"
            },
            "baxis": {
             "endlinecolor": "#2a3f5f",
             "gridcolor": "white",
             "linecolor": "white",
             "minorgridcolor": "white",
             "startlinecolor": "#2a3f5f"
            },
            "type": "carpet"
           }
          ],
          "choropleth": [
           {
            "colorbar": {
             "outlinewidth": 0,
             "ticks": ""
            },
            "type": "choropleth"
           }
          ],
          "contour": [
           {
            "colorbar": {
             "outlinewidth": 0,
             "ticks": ""
            },
            "colorscale": [
             [
              0,
              "#0d0887"
             ],
             [
              0.1111111111111111,
              "#46039f"
             ],
             [
              0.2222222222222222,
              "#7201a8"
             ],
             [
              0.3333333333333333,
              "#9c179e"
             ],
             [
              0.4444444444444444,
              "#bd3786"
             ],
             [
              0.5555555555555556,
              "#d8576b"
             ],
             [
              0.6666666666666666,
              "#ed7953"
             ],
             [
              0.7777777777777778,
              "#fb9f3a"
             ],
             [
              0.8888888888888888,
              "#fdca26"
             ],
             [
              1,
              "#f0f921"
             ]
            ],
            "type": "contour"
           }
          ],
          "contourcarpet": [
           {
            "colorbar": {
             "outlinewidth": 0,
             "ticks": ""
            },
            "type": "contourcarpet"
           }
          ],
          "heatmap": [
           {
            "colorbar": {
             "outlinewidth": 0,
             "ticks": ""
            },
            "colorscale": [
             [
              0,
              "#0d0887"
             ],
             [
              0.1111111111111111,
              "#46039f"
             ],
             [
              0.2222222222222222,
              "#7201a8"
             ],
             [
              0.3333333333333333,
              "#9c179e"
             ],
             [
              0.4444444444444444,
              "#bd3786"
             ],
             [
              0.5555555555555556,
              "#d8576b"
             ],
             [
              0.6666666666666666,
              "#ed7953"
             ],
             [
              0.7777777777777778,
              "#fb9f3a"
             ],
             [
              0.8888888888888888,
              "#fdca26"
             ],
             [
              1,
              "#f0f921"
             ]
            ],
            "type": "heatmap"
           }
          ],
          "heatmapgl": [
           {
            "colorbar": {
             "outlinewidth": 0,
             "ticks": ""
            },
            "colorscale": [
             [
              0,
              "#0d0887"
             ],
             [
              0.1111111111111111,
              "#46039f"
             ],
             [
              0.2222222222222222,
              "#7201a8"
             ],
             [
              0.3333333333333333,
              "#9c179e"
             ],
             [
              0.4444444444444444,
              "#bd3786"
             ],
             [
              0.5555555555555556,
              "#d8576b"
             ],
             [
              0.6666666666666666,
              "#ed7953"
             ],
             [
              0.7777777777777778,
              "#fb9f3a"
             ],
             [
              0.8888888888888888,
              "#fdca26"
             ],
             [
              1,
              "#f0f921"
             ]
            ],
            "type": "heatmapgl"
           }
          ],
          "histogram": [
           {
            "marker": {
             "colorbar": {
              "outlinewidth": 0,
              "ticks": ""
             }
            },
            "type": "histogram"
           }
          ],
          "histogram2d": [
           {
            "colorbar": {
             "outlinewidth": 0,
             "ticks": ""
            },
            "colorscale": [
             [
              0,
              "#0d0887"
             ],
             [
              0.1111111111111111,
              "#46039f"
             ],
             [
              0.2222222222222222,
              "#7201a8"
             ],
             [
              0.3333333333333333,
              "#9c179e"
             ],
             [
              0.4444444444444444,
              "#bd3786"
             ],
             [
              0.5555555555555556,
              "#d8576b"
             ],
             [
              0.6666666666666666,
              "#ed7953"
             ],
             [
              0.7777777777777778,
              "#fb9f3a"
             ],
             [
              0.8888888888888888,
              "#fdca26"
             ],
             [
              1,
              "#f0f921"
             ]
            ],
            "type": "histogram2d"
           }
          ],
          "histogram2dcontour": [
           {
            "colorbar": {
             "outlinewidth": 0,
             "ticks": ""
            },
            "colorscale": [
             [
              0,
              "#0d0887"
             ],
             [
              0.1111111111111111,
              "#46039f"
             ],
             [
              0.2222222222222222,
              "#7201a8"
             ],
             [
              0.3333333333333333,
              "#9c179e"
             ],
             [
              0.4444444444444444,
              "#bd3786"
             ],
             [
              0.5555555555555556,
              "#d8576b"
             ],
             [
              0.6666666666666666,
              "#ed7953"
             ],
             [
              0.7777777777777778,
              "#fb9f3a"
             ],
             [
              0.8888888888888888,
              "#fdca26"
             ],
             [
              1,
              "#f0f921"
             ]
            ],
            "type": "histogram2dcontour"
           }
          ],
          "mesh3d": [
           {
            "colorbar": {
             "outlinewidth": 0,
             "ticks": ""
            },
            "type": "mesh3d"
           }
          ],
          "parcoords": [
           {
            "line": {
             "colorbar": {
              "outlinewidth": 0,
              "ticks": ""
             }
            },
            "type": "parcoords"
           }
          ],
          "pie": [
           {
            "automargin": true,
            "type": "pie"
           }
          ],
          "scatter": [
           {
            "marker": {
             "colorbar": {
              "outlinewidth": 0,
              "ticks": ""
             }
            },
            "type": "scatter"
           }
          ],
          "scatter3d": [
           {
            "line": {
             "colorbar": {
              "outlinewidth": 0,
              "ticks": ""
             }
            },
            "marker": {
             "colorbar": {
              "outlinewidth": 0,
              "ticks": ""
             }
            },
            "type": "scatter3d"
           }
          ],
          "scattercarpet": [
           {
            "marker": {
             "colorbar": {
              "outlinewidth": 0,
              "ticks": ""
             }
            },
            "type": "scattercarpet"
           }
          ],
          "scattergeo": [
           {
            "marker": {
             "colorbar": {
              "outlinewidth": 0,
              "ticks": ""
             }
            },
            "type": "scattergeo"
           }
          ],
          "scattergl": [
           {
            "marker": {
             "colorbar": {
              "outlinewidth": 0,
              "ticks": ""
             }
            },
            "type": "scattergl"
           }
          ],
          "scattermapbox": [
           {
            "marker": {
             "colorbar": {
              "outlinewidth": 0,
              "ticks": ""
             }
            },
            "type": "scattermapbox"
           }
          ],
          "scatterpolar": [
           {
            "marker": {
             "colorbar": {
              "outlinewidth": 0,
              "ticks": ""
             }
            },
            "type": "scatterpolar"
           }
          ],
          "scatterpolargl": [
           {
            "marker": {
             "colorbar": {
              "outlinewidth": 0,
              "ticks": ""
             }
            },
            "type": "scatterpolargl"
           }
          ],
          "scatterternary": [
           {
            "marker": {
             "colorbar": {
              "outlinewidth": 0,
              "ticks": ""
             }
            },
            "type": "scatterternary"
           }
          ],
          "surface": [
           {
            "colorbar": {
             "outlinewidth": 0,
             "ticks": ""
            },
            "colorscale": [
             [
              0,
              "#0d0887"
             ],
             [
              0.1111111111111111,
              "#46039f"
             ],
             [
              0.2222222222222222,
              "#7201a8"
             ],
             [
              0.3333333333333333,
              "#9c179e"
             ],
             [
              0.4444444444444444,
              "#bd3786"
             ],
             [
              0.5555555555555556,
              "#d8576b"
             ],
             [
              0.6666666666666666,
              "#ed7953"
             ],
             [
              0.7777777777777778,
              "#fb9f3a"
             ],
             [
              0.8888888888888888,
              "#fdca26"
             ],
             [
              1,
              "#f0f921"
             ]
            ],
            "type": "surface"
           }
          ],
          "table": [
           {
            "cells": {
             "fill": {
              "color": "#EBF0F8"
             },
             "line": {
              "color": "white"
             }
            },
            "header": {
             "fill": {
              "color": "#C8D4E3"
             },
             "line": {
              "color": "white"
             }
            },
            "type": "table"
           }
          ]
         },
         "layout": {
          "annotationdefaults": {
           "arrowcolor": "#2a3f5f",
           "arrowhead": 0,
           "arrowwidth": 1
          },
          "coloraxis": {
           "colorbar": {
            "outlinewidth": 0,
            "ticks": ""
           }
          },
          "colorscale": {
           "diverging": [
            [
             0,
             "#8e0152"
            ],
            [
             0.1,
             "#c51b7d"
            ],
            [
             0.2,
             "#de77ae"
            ],
            [
             0.3,
             "#f1b6da"
            ],
            [
             0.4,
             "#fde0ef"
            ],
            [
             0.5,
             "#f7f7f7"
            ],
            [
             0.6,
             "#e6f5d0"
            ],
            [
             0.7,
             "#b8e186"
            ],
            [
             0.8,
             "#7fbc41"
            ],
            [
             0.9,
             "#4d9221"
            ],
            [
             1,
             "#276419"
            ]
           ],
           "sequential": [
            [
             0,
             "#0d0887"
            ],
            [
             0.1111111111111111,
             "#46039f"
            ],
            [
             0.2222222222222222,
             "#7201a8"
            ],
            [
             0.3333333333333333,
             "#9c179e"
            ],
            [
             0.4444444444444444,
             "#bd3786"
            ],
            [
             0.5555555555555556,
             "#d8576b"
            ],
            [
             0.6666666666666666,
             "#ed7953"
            ],
            [
             0.7777777777777778,
             "#fb9f3a"
            ],
            [
             0.8888888888888888,
             "#fdca26"
            ],
            [
             1,
             "#f0f921"
            ]
           ],
           "sequentialminus": [
            [
             0,
             "#0d0887"
            ],
            [
             0.1111111111111111,
             "#46039f"
            ],
            [
             0.2222222222222222,
             "#7201a8"
            ],
            [
             0.3333333333333333,
             "#9c179e"
            ],
            [
             0.4444444444444444,
             "#bd3786"
            ],
            [
             0.5555555555555556,
             "#d8576b"
            ],
            [
             0.6666666666666666,
             "#ed7953"
            ],
            [
             0.7777777777777778,
             "#fb9f3a"
            ],
            [
             0.8888888888888888,
             "#fdca26"
            ],
            [
             1,
             "#f0f921"
            ]
           ]
          },
          "colorway": [
           "#636efa",
           "#EF553B",
           "#00cc96",
           "#ab63fa",
           "#FFA15A",
           "#19d3f3",
           "#FF6692",
           "#B6E880",
           "#FF97FF",
           "#FECB52"
          ],
          "font": {
           "color": "#2a3f5f"
          },
          "geo": {
           "bgcolor": "white",
           "lakecolor": "white",
           "landcolor": "#E5ECF6",
           "showlakes": true,
           "showland": true,
           "subunitcolor": "white"
          },
          "hoverlabel": {
           "align": "left"
          },
          "hovermode": "closest",
          "mapbox": {
           "style": "light"
          },
          "paper_bgcolor": "white",
          "plot_bgcolor": "#E5ECF6",
          "polar": {
           "angularaxis": {
            "gridcolor": "white",
            "linecolor": "white",
            "ticks": ""
           },
           "bgcolor": "#E5ECF6",
           "radialaxis": {
            "gridcolor": "white",
            "linecolor": "white",
            "ticks": ""
           }
          },
          "scene": {
           "xaxis": {
            "backgroundcolor": "#E5ECF6",
            "gridcolor": "white",
            "gridwidth": 2,
            "linecolor": "white",
            "showbackground": true,
            "ticks": "",
            "zerolinecolor": "white"
           },
           "yaxis": {
            "backgroundcolor": "#E5ECF6",
            "gridcolor": "white",
            "gridwidth": 2,
            "linecolor": "white",
            "showbackground": true,
            "ticks": "",
            "zerolinecolor": "white"
           },
           "zaxis": {
            "backgroundcolor": "#E5ECF6",
            "gridcolor": "white",
            "gridwidth": 2,
            "linecolor": "white",
            "showbackground": true,
            "ticks": "",
            "zerolinecolor": "white"
           }
          },
          "shapedefaults": {
           "line": {
            "color": "#2a3f5f"
           }
          },
          "ternary": {
           "aaxis": {
            "gridcolor": "white",
            "linecolor": "white",
            "ticks": ""
           },
           "baxis": {
            "gridcolor": "white",
            "linecolor": "white",
            "ticks": ""
           },
           "bgcolor": "#E5ECF6",
           "caxis": {
            "gridcolor": "white",
            "linecolor": "white",
            "ticks": ""
           }
          },
          "title": {
           "x": 0.05
          },
          "xaxis": {
           "automargin": true,
           "gridcolor": "white",
           "linecolor": "white",
           "ticks": "",
           "title": {
            "standoff": 15
           },
           "zerolinecolor": "white",
           "zerolinewidth": 2
          },
          "yaxis": {
           "automargin": true,
           "gridcolor": "white",
           "linecolor": "white",
           "ticks": "",
           "title": {
            "standoff": 15
           },
           "zerolinecolor": "white",
           "zerolinewidth": 2
          }
         }
        },
        "xaxis": {
         "anchor": "y",
         "domain": [
          0,
          1
         ],
         "title": {
          "text": "last_eruption_year"
         }
        },
        "yaxis": {
         "anchor": "x",
         "domain": [
          0,
          1
         ],
         "title": {
          "text": "count"
         }
        }
       }
      },
      "text/html": [
       "<div>\n",
       "        \n",
       "        \n",
       "            <div id=\"ddd58f50-2737-4c41-bca3-5dc0a84d04a3\" class=\"plotly-graph-div\" style=\"height:525px; width:100%;\"></div>\n",
       "            <script type=\"text/javascript\">\n",
       "                require([\"plotly\"], function(Plotly) {\n",
       "                    window.PLOTLYENV=window.PLOTLYENV || {};\n",
       "                    \n",
       "                if (document.getElementById(\"ddd58f50-2737-4c41-bca3-5dc0a84d04a3\")) {\n",
       "                    Plotly.newPlot(\n",
       "                        'ddd58f50-2737-4c41-bca3-5dc0a84d04a3',\n",
       "                        [{\"alignmentgroup\": \"True\", \"bingroup\": \"x\", \"hovertemplate\": \"evidence_category=Eruption Dated<br>last_eruption_year=%{x}<br>count=%{y}<extra></extra>\", \"legendgroup\": \"Eruption Dated\", \"marker\": {\"color\": \"#636efa\"}, \"name\": \"Eruption Dated\", \"offsetgroup\": \"Eruption Dated\", \"orientation\": \"v\", \"showlegend\": true, \"type\": \"histogram\", \"x\": [\"-6850\", \"-2080\", \"950\", \"-1250\", \"2014\", \"-2450\", \"1600\", \"-50\", \"-350\", \"1490\", \"-230\", \"-590\", \"-50\", \"0\", \"1508\", \"-320\", \"1350\", \"-5800\", \"-550\", \"-3550\", \"-6050\", \"850\", \"480\", \"-8350\", \"1580\", \"-8400\", \"1290\", \"-2300\", \"-4450\", \"-5310\", \"-50\", \"1720\", \"1820\", \"-5050\", \"-3600\", \"-3250\", \"-190\", \"-3740\", \"-4040\", \"-4550\", \"400\", \"1855\", \"1150\", \"-2850\", \"-130\", \"650\", \"-3920\", \"1895\", \"-5350\", \"1813\", \"-2790\", \"1350\", \"-5610\", \"350\", \"1150\", \"-2220\", \"950\", \"50\", \"-7550\", \"1910\", \"-3490\", \"-6880\", \"-950\", \"-2120\", \"-1200\", \"-400\", \"-550\", \"-8060\", \"-1900\", \"1700\", \"-5550\", \"-1950\", \"40\", \"-3500\", \"-5350\", \"1550\", \"2015\", \"1750\", \"950\", \"550\", \"-1200\", \"1360\", \"-3250\", \"150\", \"-7050\", \"-700\", \"1750\", \"-210\", \"-4470\", \"-10450\", \"-5550\", \"300\", \"-6250\", \"-6890\", \"-8050\", \"-3500\", \"1800\", \"-6050\", \"950\", \"-520\", \"-5180\", \"-1250\", \"400\", \"-8050\", \"-750\", \"-300\", \"1550\", \"1350\", \"1550\", \"1190\", \"-6440\", \"1320\", \"1820\", \"950\", \"560\", \"120\", \"160\", \"1230\", \"960\", \"-1050\", \"350\", \"-4360\", \"-4500\", \"1260\", \"-2050\", \"180\", \"-2000\", \"1953\", \"1080\", \"1290\", \"-50\", \"-2460\", \"-5060\", \"-410\", \"1060\", \"-2050\", \"-2950\", \"1892\", \"-4100\", \"140\", \"-1600\", \"1790\", \"1380\", \"-160\", \"-750\", \"1660\", \"-6550\", \"-9540\", \"-1200\", \"1060\", \"690\", \"-2900\", \"1450\", \"-4900\", \"-50\", \"-3400\", \"-3550\", \"750\", \"1770\", \"-3050\", \"-7550\", \"-5550\", \"290\", \"-5050\", \"1270\", \"-1050\", \"-442\", \"-778\", \"-3350\", \"290\", \"255\", \"250\", \"-4450\", \"1450\", \"-9450\", \"1180\", \"1250\", \"210\", \"1075\", \"1350\", \"650\", \"-950\", \"-850\", \"-1550\", \"-5050\", \"1910\", \"1240\", \"-1280\", \"-320\", \"1739\", \"-4570\", \"-5550\", \"-2980\", \"648\", \"260\", \"1550\", \"-960\", \"-5750\", \"-900\", \"440\", \"-550\", \"-1350\", \"-4550\", \"920\", \"440\", \"-150\", \"-220\", \"1100\", \"-2990\", \"640\", \"200\", \"-2000\", \"-8050\", \"-550\", \"-300\", \"1550\", \"-5750\", \"-8300\", \"-4050\", \"-1350\", \"1200\", \"-6200\", \"-1050\", \"-800\", \"-3050\", \"-1170\"], \"xaxis\": \"x\", \"yaxis\": \"y\"}, {\"alignmentgroup\": \"True\", \"bingroup\": \"x\", \"hovertemplate\": \"evidence_category=Evidence Credible<br>last_eruption_year=%{x}<br>count=%{y}<extra></extra>\", \"legendgroup\": \"Evidence Credible\", \"marker\": {\"color\": \"#EF553B\"}, \"name\": \"Evidence Credible\", \"offsetgroup\": \"Evidence Credible\", \"orientation\": \"v\", \"showlegend\": true, \"type\": \"histogram\", \"x\": [\"Unknown\", \"Unknown\", \"Unknown\", \"Unknown\", \"Unknown\", \"Unknown\", \"Unknown\", \"Unknown\", \"Unknown\", \"Unknown\", \"Unknown\", \"Unknown\", \"Unknown\", \"Unknown\", \"Unknown\", \"Unknown\", \"Unknown\", \"Unknown\", \"Unknown\", \"Unknown\", \"Unknown\", \"Unknown\", \"Unknown\", \"Unknown\", \"Unknown\", \"Unknown\", \"Unknown\", \"Unknown\", \"Unknown\", \"Unknown\", \"Unknown\", \"Unknown\", \"Unknown\", \"Unknown\", \"Unknown\", \"Unknown\", \"Unknown\", \"Unknown\", \"Unknown\", \"Unknown\", \"Unknown\", \"Unknown\", \"Unknown\", \"Unknown\", \"Unknown\", \"Unknown\", \"Unknown\", \"Unknown\", \"Unknown\", \"Unknown\", \"Unknown\", \"Unknown\", \"Unknown\", \"Unknown\", \"Unknown\", \"Unknown\", \"Unknown\", \"Unknown\", \"Unknown\", \"Unknown\", \"Unknown\", \"Unknown\", \"Unknown\", \"Unknown\", \"Unknown\", \"Unknown\", \"Unknown\", \"Unknown\", \"Unknown\", \"Unknown\", \"Unknown\", \"Unknown\", \"Unknown\", \"Unknown\", \"Unknown\", \"Unknown\", \"Unknown\", \"Unknown\", \"Unknown\", \"Unknown\", \"Unknown\", \"Unknown\", \"Unknown\", \"Unknown\", \"Unknown\", \"Unknown\", \"Unknown\", \"Unknown\", \"Unknown\", \"Unknown\", \"Unknown\", \"Unknown\", \"Unknown\", \"Unknown\", \"Unknown\", \"Unknown\", \"Unknown\", \"Unknown\", \"Unknown\", \"Unknown\", \"Unknown\", \"Unknown\", \"1050\", \"Unknown\", \"Unknown\", \"Unknown\", \"Unknown\", \"Unknown\", \"Unknown\", \"Unknown\", \"Unknown\", \"Unknown\", \"Unknown\", \"Unknown\", \"Unknown\", \"Unknown\", \"Unknown\", \"Unknown\", \"Unknown\", \"Unknown\", \"Unknown\", \"Unknown\", \"Unknown\", \"Unknown\", \"Unknown\", \"Unknown\", \"Unknown\", \"Unknown\", \"Unknown\", \"Unknown\", \"Unknown\", \"Unknown\", \"Unknown\", \"Unknown\", \"Unknown\", \"Unknown\", \"Unknown\", \"Unknown\", \"Unknown\", \"Unknown\", \"Unknown\", \"Unknown\", \"Unknown\", \"Unknown\", \"Unknown\", \"Unknown\", \"Unknown\", \"Unknown\", \"Unknown\", \"Unknown\", \"Unknown\", \"Unknown\", \"Unknown\", \"Unknown\", \"Unknown\", \"Unknown\", \"Unknown\", \"Unknown\", \"Unknown\", \"Unknown\", \"Unknown\", \"Unknown\", \"Unknown\", \"Unknown\", \"Unknown\", \"Unknown\", \"Unknown\", \"-4000\", \"Unknown\", \"Unknown\", \"Unknown\", \"Unknown\", \"Unknown\", \"Unknown\", \"Unknown\", \"Unknown\", \"Unknown\", \"Unknown\", \"Unknown\", \"Unknown\", \"Unknown\", \"Unknown\", \"Unknown\", \"Unknown\", \"Unknown\", \"Unknown\", \"Unknown\", \"Unknown\", \"Unknown\", \"Unknown\", \"Unknown\", \"Unknown\", \"Unknown\"], \"xaxis\": \"x\", \"yaxis\": \"y\"}, {\"alignmentgroup\": \"True\", \"bingroup\": \"x\", \"hovertemplate\": \"evidence_category=Eruption Observed<br>last_eruption_year=%{x}<br>count=%{y}<extra></extra>\", \"legendgroup\": \"Eruption Observed\", \"marker\": {\"color\": \"#00cc96\"}, \"name\": \"Eruption Observed\", \"offsetgroup\": \"Eruption Observed\", \"orientation\": \"v\", \"showlegend\": true, \"type\": \"histogram\", \"x\": [\"1972\", \"1996\", \"1917\", \"1564\", \"2019\", \"2020\", \"1996\", \"2008\", \"1971\", \"1997\", \"1992\", \"2018\", \"1915\", \"1993\", \"1818\", \"2008\", \"1796\", \"2018\", \"2005\", \"2018\", \"1997\", \"2008\", \"1931\", \"1802\", \"1869\", \"1785\", \"1840\", \"1978\", \"2010\", \"500\", \"1952\", \"2019\", \"1961\", \"2020\", \"1906\", \"885\", \"1812\", \"2006\", \"2001\", \"2015\", \"2008\", \"1967\", \"1977\", \"1924\", \"2020\", \"1880\", \"1988\", \"1888\", \"1953\", \"2015\", \"1921\", \"2000\", \"2020\", \"1939\", \"2017\", \"1341\", \"2016\", \"1899\", \"2017\", \"1860\", \"2015\", \"1980\", \"2000\", \"1953\", \"1857\", \"1538\", \"1867\", \"1911\", \"1979\", \"1786\", \"1875\", \"1951\", \"1773\", \"1981\", \"1903\", \"1982\", \"1998\", \"2016\", \"2020\", \"1860\", \"2016\", \"1974\", \"1986\", \"1993\", \"2019\", \"2011\", \"2019\", \"1859\", \"2016\", \"1926\", \"2005\", \"1631\", \"1970\", \"2017\", \"1933\", \"1937\", \"2018\", \"1861\", \"2020\", \"2020\", \"2004\", \"2020\", \"2020\", \"1874\", \"2020\", \"1932\", \"2013\", \"2010\", \"1967\", \"1958\", \"1820\", \"1830\", \"2015\", \"2020\", \"2020\", \"1708\", \"1630\", \"1996\", \"2014\", \"1984\", \"2018\", \"2007\", \"2011\", \"1957\", \"2010\", \"2011\", \"2002\", \"1847\", \"1606\", \"1933\", \"1659\", \"1007\", \"1850\", \"2020\", \"2000\", \"2012\", \"1544\", \"2000\", \"1866\", \"1801\", \"1600\", \"2011\", \"1920\", \"2020\", \"1999\", \"1876\", \"1993\", \"2013\", \"1880\", \"2001\", \"2012\", \"1968\", \"1994\", \"1302\", \"1863\", \"1919\", \"1969\", \"1990\", \"1989\", \"2002\", \"1985\", \"2000\", \"1984\", \"2012\", \"2017\", \"2014\", \"2007\", \"2019\", \"1918\", \"1912\", \"1968\", \"2014\", \"2020\", \"1960\", \"1933\", \"650\", \"2017\", \"2020\", \"2018\", \"2018\", \"1945\", \"2020\", \"1973\", \"1820\", \"2007\", \"1690\", \"838\", \"1984\", \"2020\", \"2008\", \"1340\", \"1907\", \"2020\", \"1996\", \"1951\", \"1950\", \"2018\", \"1974\", \"1968\", \"1800\", \"1971\", \"1898\", \"2018\", \"1824\", \"2017\", \"1917\", \"1885\", \"2020\", \"2003\", \"2003\", \"2009\", \"2015\", \"1912\", \"1993\", \"1990\", \"1000\", \"1977\", \"1912\", \"1995\", \"1952\", \"2020\", \"2009\", \"1928\", \"2018\", \"2004\", \"1898\", \"2020\", \"1956\", \"1984\", \"2020\", \"1797\", \"1910\", \"-258\", \"1835\", \"1952\", \"1839\", \"1914\", \"1975\", \"1946\", \"2010\", \"1937\", \"2016\", \"2007\", \"1999\", \"2000\", \"1970\", \"1914\", \"837\", \"1963\", \"2018\", \"1999\", \"1650\", \"1998\", \"886\", \"1952\", \"1888\", \"1985\", \"2006\", \"2010\", \"2020\", \"2020\", \"1866\", \"1981\", \"2008\", \"Unknown\", \"2014\", \"1776\", \"1728\", \"1846\", \"1790\", \"1787\", \"1869\", \"2020\", \"2012\", \"2013\", \"1891\", \"2002\", \"2016\", \"1932\", \"1905\", \"1939\", \"2000\", \"1720\", \"1652\", \"1954\", \"1993\", \"2019\", \"2019\", \"2020\", \"1962\", \"1850\", \"1977\", \"2012\", \"1766\", \"2014\", \"1256\", \"1991\", \"2006\", \"1957\", \"2015\", \"1880\", \"1908\", \"2020\", \"1831\", \"2020\", \"2016\", \"2007\", \"2020\", \"2008\", \"1640\", \"2020\", \"1938\", \"2019\", \"1960\", \"1796\", \"1960\", \"1917\", \"2020\", \"2020\", \"2005\", \"2020\", \"1906\", \"1950\", \"2019\", \"1951\", \"2020\", \"1911\", \"1847\", \"1253\", \"1993\", \"2020\", \"2020\", \"1921\", \"1880\", \"1839\", \"1250\", \"2020\", \"1979\", \"1936\", \"2020\", \"2019\", \"1881\", \"2015\", \"2014\", \"1994\", \"2020\", \"1986\", \"1977\", \"2013\", \"1979\", \"1975\", \"1992\", \"1957\", \"2008\", \"2020\", \"1921\", \"1730\", \"1916\", \"1971\", \"1966\", \"2020\", \"2020\", \"1986\", \"2008\", \"2008\", \"2007\", \"1967\", \"1914\", \"1924\", \"1880\", \"2019\", \"1952\", \"1800\", \"2018\", \"1937\", \"1855\", \"1909\", \"2019\", \"2000\", \"2020\", \"1917\", \"1868\", \"2014\", \"2004\", \"2013\", \"1943\", \"1848\", \"2012\", \"1477\", \"915\", \"2001\", \"1881\", \"1974\", \"1962\", \"1822\", \"1900\", \"1987\", \"2019\", \"1802\", \"1814\", \"1977\", \"1996\", \"1890\", \"2003\", \"1973\", \"1944\", \"1935\", \"2020\", \"1957\", \"1890\", \"-104\", \"1997\", \"2009\", \"1992\", \"2019\", \"2012\", \"1912\", \"1776\", \"1995\", \"1810\", \"2020\", \"1835\", \"-1320\", \"867\", \"1937\", \"1940\", \"2016\", \"2013\"], \"xaxis\": \"x\", \"yaxis\": \"y\"}, {\"alignmentgroup\": \"True\", \"bingroup\": \"x\", \"hovertemplate\": \"evidence_category=Evidence Uncertain<br>last_eruption_year=%{x}<br>count=%{y}<extra></extra>\", \"legendgroup\": \"Evidence Uncertain\", \"marker\": {\"color\": \"#ab63fa\"}, \"name\": \"Evidence Uncertain\", \"offsetgroup\": \"Evidence Uncertain\", \"orientation\": \"v\", \"showlegend\": true, \"type\": \"histogram\", \"x\": [\"Unknown\", \"Unknown\", \"Unknown\", \"Unknown\", \"Unknown\", \"Unknown\", \"Unknown\", \"Unknown\", \"Unknown\", \"Unknown\", \"Unknown\", \"Unknown\", \"Unknown\", \"Unknown\", \"Unknown\", \"1936\", \"Unknown\", \"Unknown\", \"Unknown\", \"Unknown\", \"Unknown\", \"Unknown\", \"Unknown\", \"Unknown\", \"Unknown\", \"Unknown\", \"Unknown\", \"Unknown\", \"Unknown\", \"Unknown\", \"Unknown\", \"Unknown\", \"Unknown\", \"Unknown\", \"Unknown\", \"Unknown\", \"Unknown\", \"Unknown\", \"Unknown\", \"Unknown\", \"Unknown\", \"Unknown\", \"Unknown\", \"Unknown\", \"Unknown\", \"Unknown\", \"Unknown\", \"Unknown\", \"Unknown\", \"Unknown\", \"Unknown\", \"Unknown\", \"Unknown\", \"Unknown\", \"Unknown\", \"Unknown\", \"Unknown\", \"Unknown\", \"Unknown\", \"Unknown\", \"Unknown\", \"Unknown\", \"Unknown\", \"Unknown\", \"Unknown\", \"Unknown\", \"Unknown\", \"Unknown\", \"1895\", \"Unknown\", \"Unknown\", \"Unknown\", \"Unknown\", \"Unknown\", \"Unknown\", \"Unknown\", \"Unknown\", \"Unknown\", \"Unknown\", \"Unknown\", \"Unknown\", \"Unknown\", \"Unknown\", \"Unknown\"], \"xaxis\": \"x\", \"yaxis\": \"y\"}, {\"alignmentgroup\": \"True\", \"bingroup\": \"x\", \"hovertemplate\": \"evidence_category=Unrest / Holocene<br>last_eruption_year=%{x}<br>count=%{y}<extra></extra>\", \"legendgroup\": \"Unrest / Holocene\", \"marker\": {\"color\": \"#FFA15A\"}, \"name\": \"Unrest / Holocene\", \"offsetgroup\": \"Unrest / Holocene\", \"orientation\": \"v\", \"showlegend\": true, \"type\": \"histogram\", \"x\": [\"Unknown\", \"Unknown\", \"Unknown\", \"Unknown\", \"Unknown\", \"Unknown\", \"Unknown\", \"Unknown\", \"Unknown\", \"Unknown\", \"Unknown\", \"Unknown\", \"Unknown\", \"Unknown\", \"Unknown\", \"Unknown\", \"Unknown\", \"Unknown\", \"Unknown\", \"Unknown\", \"Unknown\", \"Unknown\", \"Unknown\", \"Unknown\", \"Unknown\", \"Unknown\", \"Unknown\"], \"xaxis\": \"x\", \"yaxis\": \"y\"}],\n",
       "                        {\"barmode\": \"relative\", \"legend\": {\"title\": {\"text\": \"evidence_category\"}, \"tracegroupgap\": 0}, \"margin\": {\"t\": 60}, \"template\": {\"data\": {\"bar\": [{\"error_x\": {\"color\": \"#2a3f5f\"}, \"error_y\": {\"color\": \"#2a3f5f\"}, \"marker\": {\"line\": {\"color\": \"#E5ECF6\", \"width\": 0.5}}, \"type\": \"bar\"}], \"barpolar\": [{\"marker\": {\"line\": {\"color\": \"#E5ECF6\", \"width\": 0.5}}, \"type\": \"barpolar\"}], \"carpet\": [{\"aaxis\": {\"endlinecolor\": \"#2a3f5f\", \"gridcolor\": \"white\", \"linecolor\": \"white\", \"minorgridcolor\": \"white\", \"startlinecolor\": \"#2a3f5f\"}, \"baxis\": {\"endlinecolor\": \"#2a3f5f\", \"gridcolor\": \"white\", \"linecolor\": \"white\", \"minorgridcolor\": \"white\", \"startlinecolor\": \"#2a3f5f\"}, \"type\": \"carpet\"}], \"choropleth\": [{\"colorbar\": {\"outlinewidth\": 0, \"ticks\": \"\"}, \"type\": \"choropleth\"}], \"contour\": [{\"colorbar\": {\"outlinewidth\": 0, \"ticks\": \"\"}, \"colorscale\": [[0.0, \"#0d0887\"], [0.1111111111111111, \"#46039f\"], [0.2222222222222222, \"#7201a8\"], [0.3333333333333333, \"#9c179e\"], [0.4444444444444444, \"#bd3786\"], [0.5555555555555556, \"#d8576b\"], [0.6666666666666666, \"#ed7953\"], [0.7777777777777778, \"#fb9f3a\"], [0.8888888888888888, \"#fdca26\"], [1.0, \"#f0f921\"]], \"type\": \"contour\"}], \"contourcarpet\": [{\"colorbar\": {\"outlinewidth\": 0, \"ticks\": \"\"}, \"type\": \"contourcarpet\"}], \"heatmap\": [{\"colorbar\": {\"outlinewidth\": 0, \"ticks\": \"\"}, \"colorscale\": [[0.0, \"#0d0887\"], [0.1111111111111111, \"#46039f\"], [0.2222222222222222, \"#7201a8\"], [0.3333333333333333, \"#9c179e\"], [0.4444444444444444, \"#bd3786\"], [0.5555555555555556, \"#d8576b\"], [0.6666666666666666, \"#ed7953\"], [0.7777777777777778, \"#fb9f3a\"], [0.8888888888888888, \"#fdca26\"], [1.0, \"#f0f921\"]], \"type\": \"heatmap\"}], \"heatmapgl\": [{\"colorbar\": {\"outlinewidth\": 0, \"ticks\": \"\"}, \"colorscale\": [[0.0, \"#0d0887\"], [0.1111111111111111, \"#46039f\"], [0.2222222222222222, \"#7201a8\"], [0.3333333333333333, \"#9c179e\"], [0.4444444444444444, \"#bd3786\"], [0.5555555555555556, \"#d8576b\"], [0.6666666666666666, \"#ed7953\"], [0.7777777777777778, \"#fb9f3a\"], [0.8888888888888888, \"#fdca26\"], [1.0, \"#f0f921\"]], \"type\": \"heatmapgl\"}], \"histogram\": [{\"marker\": {\"colorbar\": {\"outlinewidth\": 0, \"ticks\": \"\"}}, \"type\": \"histogram\"}], \"histogram2d\": [{\"colorbar\": {\"outlinewidth\": 0, \"ticks\": \"\"}, \"colorscale\": [[0.0, \"#0d0887\"], [0.1111111111111111, \"#46039f\"], [0.2222222222222222, \"#7201a8\"], [0.3333333333333333, \"#9c179e\"], [0.4444444444444444, \"#bd3786\"], [0.5555555555555556, \"#d8576b\"], [0.6666666666666666, \"#ed7953\"], [0.7777777777777778, \"#fb9f3a\"], [0.8888888888888888, \"#fdca26\"], [1.0, \"#f0f921\"]], \"type\": \"histogram2d\"}], \"histogram2dcontour\": [{\"colorbar\": {\"outlinewidth\": 0, \"ticks\": \"\"}, \"colorscale\": [[0.0, \"#0d0887\"], [0.1111111111111111, \"#46039f\"], [0.2222222222222222, \"#7201a8\"], [0.3333333333333333, \"#9c179e\"], [0.4444444444444444, \"#bd3786\"], [0.5555555555555556, \"#d8576b\"], [0.6666666666666666, \"#ed7953\"], [0.7777777777777778, \"#fb9f3a\"], [0.8888888888888888, \"#fdca26\"], [1.0, \"#f0f921\"]], \"type\": \"histogram2dcontour\"}], \"mesh3d\": [{\"colorbar\": {\"outlinewidth\": 0, \"ticks\": \"\"}, \"type\": \"mesh3d\"}], \"parcoords\": [{\"line\": {\"colorbar\": {\"outlinewidth\": 0, \"ticks\": \"\"}}, \"type\": \"parcoords\"}], \"pie\": [{\"automargin\": true, \"type\": \"pie\"}], \"scatter\": [{\"marker\": {\"colorbar\": {\"outlinewidth\": 0, \"ticks\": \"\"}}, \"type\": \"scatter\"}], \"scatter3d\": [{\"line\": {\"colorbar\": {\"outlinewidth\": 0, \"ticks\": \"\"}}, \"marker\": {\"colorbar\": {\"outlinewidth\": 0, \"ticks\": \"\"}}, \"type\": \"scatter3d\"}], \"scattercarpet\": [{\"marker\": {\"colorbar\": {\"outlinewidth\": 0, \"ticks\": \"\"}}, \"type\": \"scattercarpet\"}], \"scattergeo\": [{\"marker\": {\"colorbar\": {\"outlinewidth\": 0, \"ticks\": \"\"}}, \"type\": \"scattergeo\"}], \"scattergl\": [{\"marker\": {\"colorbar\": {\"outlinewidth\": 0, \"ticks\": \"\"}}, \"type\": \"scattergl\"}], \"scattermapbox\": [{\"marker\": {\"colorbar\": {\"outlinewidth\": 0, \"ticks\": \"\"}}, \"type\": \"scattermapbox\"}], \"scatterpolar\": [{\"marker\": {\"colorbar\": {\"outlinewidth\": 0, \"ticks\": \"\"}}, \"type\": \"scatterpolar\"}], \"scatterpolargl\": [{\"marker\": {\"colorbar\": {\"outlinewidth\": 0, \"ticks\": \"\"}}, \"type\": \"scatterpolargl\"}], \"scatterternary\": [{\"marker\": {\"colorbar\": {\"outlinewidth\": 0, \"ticks\": \"\"}}, \"type\": \"scatterternary\"}], \"surface\": [{\"colorbar\": {\"outlinewidth\": 0, \"ticks\": \"\"}, \"colorscale\": [[0.0, \"#0d0887\"], [0.1111111111111111, \"#46039f\"], [0.2222222222222222, \"#7201a8\"], [0.3333333333333333, \"#9c179e\"], [0.4444444444444444, \"#bd3786\"], [0.5555555555555556, \"#d8576b\"], [0.6666666666666666, \"#ed7953\"], [0.7777777777777778, \"#fb9f3a\"], [0.8888888888888888, \"#fdca26\"], [1.0, \"#f0f921\"]], \"type\": \"surface\"}], \"table\": [{\"cells\": {\"fill\": {\"color\": \"#EBF0F8\"}, \"line\": {\"color\": \"white\"}}, \"header\": {\"fill\": {\"color\": \"#C8D4E3\"}, \"line\": {\"color\": \"white\"}}, \"type\": \"table\"}]}, \"layout\": {\"annotationdefaults\": {\"arrowcolor\": \"#2a3f5f\", \"arrowhead\": 0, \"arrowwidth\": 1}, \"coloraxis\": {\"colorbar\": {\"outlinewidth\": 0, \"ticks\": \"\"}}, \"colorscale\": {\"diverging\": [[0, \"#8e0152\"], [0.1, \"#c51b7d\"], [0.2, \"#de77ae\"], [0.3, \"#f1b6da\"], [0.4, \"#fde0ef\"], [0.5, \"#f7f7f7\"], [0.6, \"#e6f5d0\"], [0.7, \"#b8e186\"], [0.8, \"#7fbc41\"], [0.9, \"#4d9221\"], [1, \"#276419\"]], \"sequential\": [[0.0, \"#0d0887\"], [0.1111111111111111, \"#46039f\"], [0.2222222222222222, \"#7201a8\"], [0.3333333333333333, \"#9c179e\"], [0.4444444444444444, \"#bd3786\"], [0.5555555555555556, \"#d8576b\"], [0.6666666666666666, \"#ed7953\"], [0.7777777777777778, \"#fb9f3a\"], [0.8888888888888888, \"#fdca26\"], [1.0, \"#f0f921\"]], \"sequentialminus\": [[0.0, \"#0d0887\"], [0.1111111111111111, \"#46039f\"], [0.2222222222222222, \"#7201a8\"], [0.3333333333333333, \"#9c179e\"], [0.4444444444444444, \"#bd3786\"], [0.5555555555555556, \"#d8576b\"], [0.6666666666666666, \"#ed7953\"], [0.7777777777777778, \"#fb9f3a\"], [0.8888888888888888, \"#fdca26\"], [1.0, \"#f0f921\"]]}, \"colorway\": [\"#636efa\", \"#EF553B\", \"#00cc96\", \"#ab63fa\", \"#FFA15A\", \"#19d3f3\", \"#FF6692\", \"#B6E880\", \"#FF97FF\", \"#FECB52\"], \"font\": {\"color\": \"#2a3f5f\"}, \"geo\": {\"bgcolor\": \"white\", \"lakecolor\": \"white\", \"landcolor\": \"#E5ECF6\", \"showlakes\": true, \"showland\": true, \"subunitcolor\": \"white\"}, \"hoverlabel\": {\"align\": \"left\"}, \"hovermode\": \"closest\", \"mapbox\": {\"style\": \"light\"}, \"paper_bgcolor\": \"white\", \"plot_bgcolor\": \"#E5ECF6\", \"polar\": {\"angularaxis\": {\"gridcolor\": \"white\", \"linecolor\": \"white\", \"ticks\": \"\"}, \"bgcolor\": \"#E5ECF6\", \"radialaxis\": {\"gridcolor\": \"white\", \"linecolor\": \"white\", \"ticks\": \"\"}}, \"scene\": {\"xaxis\": {\"backgroundcolor\": \"#E5ECF6\", \"gridcolor\": \"white\", \"gridwidth\": 2, \"linecolor\": \"white\", \"showbackground\": true, \"ticks\": \"\", \"zerolinecolor\": \"white\"}, \"yaxis\": {\"backgroundcolor\": \"#E5ECF6\", \"gridcolor\": \"white\", \"gridwidth\": 2, \"linecolor\": \"white\", \"showbackground\": true, \"ticks\": \"\", \"zerolinecolor\": \"white\"}, \"zaxis\": {\"backgroundcolor\": \"#E5ECF6\", \"gridcolor\": \"white\", \"gridwidth\": 2, \"linecolor\": \"white\", \"showbackground\": true, \"ticks\": \"\", \"zerolinecolor\": \"white\"}}, \"shapedefaults\": {\"line\": {\"color\": \"#2a3f5f\"}}, \"ternary\": {\"aaxis\": {\"gridcolor\": \"white\", \"linecolor\": \"white\", \"ticks\": \"\"}, \"baxis\": {\"gridcolor\": \"white\", \"linecolor\": \"white\", \"ticks\": \"\"}, \"bgcolor\": \"#E5ECF6\", \"caxis\": {\"gridcolor\": \"white\", \"linecolor\": \"white\", \"ticks\": \"\"}}, \"title\": {\"x\": 0.05}, \"xaxis\": {\"automargin\": true, \"gridcolor\": \"white\", \"linecolor\": \"white\", \"ticks\": \"\", \"title\": {\"standoff\": 15}, \"zerolinecolor\": \"white\", \"zerolinewidth\": 2}, \"yaxis\": {\"automargin\": true, \"gridcolor\": \"white\", \"linecolor\": \"white\", \"ticks\": \"\", \"title\": {\"standoff\": 15}, \"zerolinecolor\": \"white\", \"zerolinewidth\": 2}}}, \"xaxis\": {\"anchor\": \"y\", \"domain\": [0.0, 1.0], \"title\": {\"text\": \"last_eruption_year\"}}, \"yaxis\": {\"anchor\": \"x\", \"domain\": [0.0, 1.0], \"title\": {\"text\": \"count\"}}},\n",
       "                        {\"responsive\": true}\n",
       "                    ).then(function(){\n",
       "                            \n",
       "var gd = document.getElementById('ddd58f50-2737-4c41-bca3-5dc0a84d04a3');\n",
       "var x = new MutationObserver(function (mutations, observer) {{\n",
       "        var display = window.getComputedStyle(gd).display;\n",
       "        if (!display || display === 'none') {{\n",
       "            console.log([gd, 'removed!']);\n",
       "            Plotly.purge(gd);\n",
       "            observer.disconnect();\n",
       "        }}\n",
       "}});\n",
       "\n",
       "// Listen for the removal of the full notebook cells\n",
       "var notebookContainer = gd.closest('#notebook-container');\n",
       "if (notebookContainer) {{\n",
       "    x.observe(notebookContainer, {childList: true});\n",
       "}}\n",
       "\n",
       "// Listen for the clearing of the current output cell\n",
       "var outputEl = gd.closest('.output');\n",
       "if (outputEl) {{\n",
       "    x.observe(outputEl, {childList: true});\n",
       "}}\n",
       "\n",
       "                        })\n",
       "                };\n",
       "                });\n",
       "            </script>\n",
       "        </div>"
      ]
     },
     "metadata": {},
     "output_type": "display_data"
    }
   ],
   "source": [
    "import plotly.express as px\n",
    "fig = px.histogram(volcano, x=\"last_eruption_year\", color = \"evidence_category\")\n",
    "fig.show()"
   ]
  },
  {
   "cell_type": "code",
   "execution_count": 77,
   "metadata": {},
   "outputs": [
    {
     "data": {
      "text/plain": [
       "0      8870.0\n",
       "1      8870.0\n",
       "2        48.0\n",
       "3      4100.0\n",
       "4      1070.0\n",
       "        ...  \n",
       "953       4.0\n",
       "954    5070.0\n",
       "955       7.0\n",
       "956       7.0\n",
       "957    3190.0\n",
       "Name: last_eruption_year, Length: 958, dtype: float64"
      ]
     },
     "execution_count": 77,
     "metadata": {},
     "output_type": "execute_result"
    }
   ],
   "source": [
    "2020 - volcano.last_eruption_year.astype(float)"
   ]
  }
 ],
 "metadata": {
  "kernelspec": {
   "display_name": "Python 3",
   "language": "python",
   "name": "python3"
  },
  "language_info": {
   "codemirror_mode": {
    "name": "ipython",
    "version": 3
   },
   "file_extension": ".py",
   "mimetype": "text/x-python",
   "name": "python",
   "nbconvert_exporter": "python",
   "pygments_lexer": "ipython3",
   "version": "3.8.2"
  },
  "latex_envs": {
   "LaTeX_envs_menu_present": true,
   "autoclose": true,
   "autocomplete": true,
   "bibliofile": "biblio.bib",
   "cite_by": "apalike",
   "current_citInitial": 1,
   "eqLabelWithNumbers": true,
   "eqNumInitial": 1,
   "hotkeys": {
    "equation": "Ctrl-E",
    "itemize": "Ctrl-I"
   },
   "labels_anchors": false,
   "latex_user_defs": false,
   "report_style_numbering": false,
   "user_envs_cfg": false
  },
  "toc": {
   "base_numbering": 1,
   "nav_menu": {},
   "number_sections": true,
   "sideBar": true,
   "skip_h1_title": false,
   "title_cell": "Table of Contents",
   "title_sidebar": "Contents",
   "toc_cell": false,
   "toc_position": {},
   "toc_section_display": true,
   "toc_window_display": false
  }
 },
 "nbformat": 4,
 "nbformat_minor": 4
}
